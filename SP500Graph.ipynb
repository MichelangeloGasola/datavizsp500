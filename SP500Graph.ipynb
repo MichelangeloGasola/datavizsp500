{
 "cells": [
  {
   "cell_type": "code",
   "execution_count": 1,
   "metadata": {},
   "outputs": [
    {
     "name": "stdout",
     "output_type": "stream",
     "text": [
      "Requirement already satisfied: pandas in /Users/michelangelogasola/anaconda3/envs/vaa/lib/python3.12/site-packages (2.2.1)\n",
      "Requirement already satisfied: numpy<2,>=1.26.0 in /Users/michelangelogasola/anaconda3/envs/vaa/lib/python3.12/site-packages (from pandas) (1.26.4)\n",
      "Requirement already satisfied: python-dateutil>=2.8.2 in /Users/michelangelogasola/anaconda3/envs/vaa/lib/python3.12/site-packages (from pandas) (2.9.0)\n",
      "Requirement already satisfied: pytz>=2020.1 in /Users/michelangelogasola/anaconda3/envs/vaa/lib/python3.12/site-packages (from pandas) (2024.1)\n",
      "Requirement already satisfied: tzdata>=2022.7 in /Users/michelangelogasola/anaconda3/envs/vaa/lib/python3.12/site-packages (from pandas) (2024.1)\n",
      "Requirement already satisfied: six>=1.5 in /Users/michelangelogasola/anaconda3/envs/vaa/lib/python3.12/site-packages (from python-dateutil>=2.8.2->pandas) (1.16.0)\n",
      "Requirement already satisfied: plotly in /Users/michelangelogasola/anaconda3/envs/vaa/lib/python3.12/site-packages (5.22.0)\n",
      "Requirement already satisfied: tenacity>=6.2.0 in /Users/michelangelogasola/anaconda3/envs/vaa/lib/python3.12/site-packages (from plotly) (8.3.0)\n",
      "Requirement already satisfied: packaging in /Users/michelangelogasola/anaconda3/envs/vaa/lib/python3.12/site-packages (from plotly) (23.2)\n",
      "Requirement already satisfied: yfinance in /Users/michelangelogasola/anaconda3/envs/vaa/lib/python3.12/site-packages (0.2.40)\n",
      "Requirement already satisfied: pandas>=1.3.0 in /Users/michelangelogasola/anaconda3/envs/vaa/lib/python3.12/site-packages (from yfinance) (2.2.1)\n",
      "Requirement already satisfied: numpy>=1.16.5 in /Users/michelangelogasola/anaconda3/envs/vaa/lib/python3.12/site-packages (from yfinance) (1.26.4)\n",
      "Requirement already satisfied: requests>=2.31 in /Users/michelangelogasola/anaconda3/envs/vaa/lib/python3.12/site-packages (from yfinance) (2.31.0)\n",
      "Requirement already satisfied: multitasking>=0.0.7 in /Users/michelangelogasola/anaconda3/envs/vaa/lib/python3.12/site-packages (from yfinance) (0.0.11)\n",
      "Requirement already satisfied: lxml>=4.9.1 in /Users/michelangelogasola/anaconda3/envs/vaa/lib/python3.12/site-packages (from yfinance) (5.2.2)\n",
      "Requirement already satisfied: platformdirs>=2.0.0 in /Users/michelangelogasola/anaconda3/envs/vaa/lib/python3.12/site-packages (from yfinance) (4.2.0)\n",
      "Requirement already satisfied: pytz>=2022.5 in /Users/michelangelogasola/anaconda3/envs/vaa/lib/python3.12/site-packages (from yfinance) (2024.1)\n",
      "Requirement already satisfied: frozendict>=2.3.4 in /Users/michelangelogasola/anaconda3/envs/vaa/lib/python3.12/site-packages (from yfinance) (2.4.4)\n",
      "Requirement already satisfied: peewee>=3.16.2 in /Users/michelangelogasola/anaconda3/envs/vaa/lib/python3.12/site-packages (from yfinance) (3.17.5)\n",
      "Requirement already satisfied: beautifulsoup4>=4.11.1 in /Users/michelangelogasola/anaconda3/envs/vaa/lib/python3.12/site-packages (from yfinance) (4.12.3)\n",
      "Requirement already satisfied: html5lib>=1.1 in /Users/michelangelogasola/anaconda3/envs/vaa/lib/python3.12/site-packages (from yfinance) (1.1)\n",
      "Requirement already satisfied: soupsieve>1.2 in /Users/michelangelogasola/anaconda3/envs/vaa/lib/python3.12/site-packages (from beautifulsoup4>=4.11.1->yfinance) (2.5)\n",
      "Requirement already satisfied: six>=1.9 in /Users/michelangelogasola/anaconda3/envs/vaa/lib/python3.12/site-packages (from html5lib>=1.1->yfinance) (1.16.0)\n",
      "Requirement already satisfied: webencodings in /Users/michelangelogasola/anaconda3/envs/vaa/lib/python3.12/site-packages (from html5lib>=1.1->yfinance) (0.5.1)\n",
      "Requirement already satisfied: python-dateutil>=2.8.2 in /Users/michelangelogasola/anaconda3/envs/vaa/lib/python3.12/site-packages (from pandas>=1.3.0->yfinance) (2.9.0)\n",
      "Requirement already satisfied: tzdata>=2022.7 in /Users/michelangelogasola/anaconda3/envs/vaa/lib/python3.12/site-packages (from pandas>=1.3.0->yfinance) (2024.1)\n",
      "Requirement already satisfied: charset-normalizer<4,>=2 in /Users/michelangelogasola/anaconda3/envs/vaa/lib/python3.12/site-packages (from requests>=2.31->yfinance) (3.3.2)\n",
      "Requirement already satisfied: idna<4,>=2.5 in /Users/michelangelogasola/anaconda3/envs/vaa/lib/python3.12/site-packages (from requests>=2.31->yfinance) (3.6)\n",
      "Requirement already satisfied: urllib3<3,>=1.21.1 in /Users/michelangelogasola/anaconda3/envs/vaa/lib/python3.12/site-packages (from requests>=2.31->yfinance) (2.2.1)\n",
      "Requirement already satisfied: certifi>=2017.4.17 in /Users/michelangelogasola/anaconda3/envs/vaa/lib/python3.12/site-packages (from requests>=2.31->yfinance) (2024.2.2)\n"
     ]
    }
   ],
   "source": [
    "#I install required libraries\n",
    "!pip install pandas\n",
    "!pip install plotly\n",
    "!pip install yfinance"
   ]
  },
  {
   "cell_type": "code",
   "execution_count": 2,
   "metadata": {},
   "outputs": [
    {
     "name": "stderr",
     "output_type": "stream",
     "text": [
      "[*********************100%%**********************]  1 of 1 completed"
     ]
    },
    {
     "name": "stdout",
     "output_type": "stream",
     "text": [
      "Interactive candlestick chart saved to /Users/michelangelogasola/Desktop/datavizsp500/sp500_candlestick.html.\n"
     ]
    },
    {
     "name": "stderr",
     "output_type": "stream",
     "text": [
      "\n"
     ]
    }
   ],
   "source": [
    "import os\n",
    "import pandas as pd\n",
    "import yfinance as yf\n",
    "import plotly.graph_objs as go\n",
    "\n",
    "# Fetching data for the S&P 500\n",
    "# Define the index symbol and time frame\n",
    "symbol = '^GSPC'  # S&P 500 index\n",
    "start_date = '2010-01-01'\n",
    "end_date = '2024-12-31'\n",
    "\n",
    "# Fetch S&P 500 data\n",
    "df = yf.download(symbol, start=start_date, end=end_date)\n",
    "\n",
    "# Define the candlestick chart\n",
    "data = [go.Candlestick(\n",
    "    x=df.index,\n",
    "    open=df.Open,\n",
    "    high=df.High,\n",
    "    low=df.Low,\n",
    "    close=df.Close\n",
    ")]\n",
    "\n",
    "# Layout with range slider and selectors\n",
    "layout = go.Layout(\n",
    "    title='S&P 500 Candlestick with Range Slider and Selectors',\n",
    "    xaxis={\n",
    "        'rangeselector': {\n",
    "            'buttons': [\n",
    "                {'count': 1, 'label': '1m', 'step': 'month', 'stepmode': 'backward'},  # 1 month\n",
    "                {'count': 3, 'label': '3m', 'step': 'month', 'stepmode': 'backward'},  # 3 months\n",
    "                {'count': 6, 'label': '6m', 'step': 'month', 'stepmode': 'backward'},  # 6 months\n",
    "                {'count': 1, 'label': '1y', 'step': 'year', 'stepmode': 'backward'},   # 1 year\n",
    "                {'count': 3, 'label': '3y', 'step': 'year', 'stepmode': 'backward'},   # 3 years\n",
    "                {'count': 6, 'label': '6y', 'step': 'year', 'stepmode': 'backward'},   # 6 years\n",
    "                {'step': 'all', 'label': 'All'}  # All data\n",
    "            ]\n",
    "        },\n",
    "        'rangeslider': {'visible': True}\n",
    "    }\n",
    ")\n",
    "\n",
    "# Create the figure\n",
    "fig = go.Figure(data=data, layout=layout)\n",
    "\n",
    "# Path to save the HTML file\n",
    "output_path = '/Users/michelangelogasola/Desktop/datavizsp500/sp500_candlestick.html'\n",
    "\n",
    "# Check if the file exists and delete it\n",
    "if os.path.exists(output_path):\n",
    "    os.remove(output_path)\n",
    "    print(f\"Deleted old file: {output_path}\")\n",
    "\n",
    "# Save the figure as an HTML file\n",
    "fig.write_html(output_path)\n",
    "print(f\"Interactive candlestick chart saved to {output_path}.\")"
   ]
  },
  {
   "cell_type": "code",
   "execution_count": 3,
   "metadata": {},
   "outputs": [
    {
     "data": {
      "text/html": [
       "\n",
       "        <iframe\n",
       "            width=\"100%\"\n",
       "            height=\"600px\"\n",
       "            src=\"sp500_candlestick.html\"\n",
       "            frameborder=\"0\"\n",
       "            allowfullscreen\n",
       "            \n",
       "        ></iframe>\n",
       "        "
      ],
      "text/plain": [
       "<IPython.lib.display.IFrame at 0x110d8e360>"
      ]
     },
     "execution_count": 3,
     "metadata": {},
     "output_type": "execute_result"
    }
   ],
   "source": [
    "from IPython.display import IFrame\n",
    "\n",
    "# Display the HTML file in an iframe\n",
    "IFrame(src=\"sp500_candlestick.html\", width=\"100%\", height=\"600px\")"
   ]
  }
 ],
 "metadata": {
  "kernelspec": {
   "display_name": "vaa",
   "language": "python",
   "name": "python3"
  },
  "language_info": {
   "codemirror_mode": {
    "name": "ipython",
    "version": 3
   },
   "file_extension": ".py",
   "mimetype": "text/x-python",
   "name": "python",
   "nbconvert_exporter": "python",
   "pygments_lexer": "ipython3",
   "version": "3.12.2"
  }
 },
 "nbformat": 4,
 "nbformat_minor": 2
}
